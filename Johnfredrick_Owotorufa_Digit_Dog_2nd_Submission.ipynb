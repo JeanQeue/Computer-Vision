{
 "nbformat": 4,
 "nbformat_minor": 0,
 "metadata": {
  "colab": {
   "provenance": []
  },
  "kernelspec": {
   "name": "python3",
   "language": "python",
   "display_name": "Python 3 (ipykernel)"
  },
  "language_info": {
   "name": "python"
  }
 },
 "cells": [
  {
   "cell_type": "markdown",
   "source": [
    "# Classification Project: Handwritten Digits and Dog Breeds"
   ],
   "metadata": {
    "id": "tVqDWXVncJ70"
   }
  },
  {
   "cell_type": "markdown",
   "source": [
    "## Mission Statement:\n",
    "This project aims to classify handwritten digits and dog breeds using various machine learning models."
   ],
   "metadata": {
    "collapsed": false
   }
  },
  {
   "cell_type": "markdown",
   "source": [
    "### Dataset Descriptions:\n",
    "#### Handwritten Digits (MNIST dataset from Kaggle)\n",
    "**Format:** 2D arrays representing images\n",
    "**Size:** 60,000 training images and 10,000 testing images.\n",
    "**Target:** 10 classes (digits from 0 - 9.)\n",
    "\n",
    "#### Dog Breeds (dataset from Kaggle)\n",
    "**Format:** RGB images of different sizes.\n",
    "**Size:** 20,000+ images of about 120 dog breeds.\n",
    "**Target:** Specific dog breeds."
   ],
   "metadata": {
    "id": "UgqaTDgXcUck"
   }
  },
  {
   "cell_type": "markdown",
   "source": [
    "## Classification Strategy:\n",
    "- For Handwritten Digits, I would do the following:\n",
    "  - Normalize pixel values\n",
    "  - One-hot encode labels\n",
    "  - Flatten the images\n",
    "  - Use a neural network with dense layers\n",
    "\n",
    "- For Dog Breeds:\n",
    "  - Use VGG16 as the base model\n",
    "  - Data augmentation with ImageDataGenerator\n",
    "  - Flatten the output of VGG16\n",
    "  - Add dense layers for classification\n",
    "\n"
   ],
   "metadata": {
    "collapsed": false
   }
  },
  {
   "cell_type": "markdown",
   "source": [
    "### Importing Libraries"
   ],
   "metadata": {
    "id": "bWKhIuhBcYpl"
   }
  },
  {
   "cell_type": "code",
   "source": [
    "import numpy as np\n",
    "import matplotlib.pyplot as plt\n",
    "%matplotlib inline\n",
    "import keras\n",
    "from keras.models import Sequential\n",
    "from keras.layers import Dense, Dropout, Conv2D, MaxPooling2D, Flatten\n",
    "from keras.optimizers import Adam\n",
    "from sklearn.metrics import confusion_matrix\n",
    "from tensorflow.keras.utils import to_categorical\n",
    "from keras.datasets import mnist\n",
    "import seaborn as sns"
   ],
   "metadata": {
    "id": "KlE5XQ8WcVFZ",
    "ExecuteTime": {
     "end_time": "2024-01-25T16:10:48.490938900Z",
     "start_time": "2024-01-25T16:10:48.463634700Z"
    }
   },
   "execution_count": 40,
   "outputs": []
  },
  {
   "cell_type": "markdown",
   "source": [
    "### Loading & exploring the training and testing datasets"
   ],
   "metadata": {
    "id": "Zw8apFP5cdjE"
   }
  },
  {
   "cell_type": "code",
   "source": [
    "np.random.seed(0)\n",
    "(x_train, y_train), (x_test, y_test) = mnist.load_data()"
   ],
   "metadata": {
    "colab": {
     "base_uri": "https://localhost:8080/"
    },
    "id": "n8i2LD_zca_r",
    "outputId": "5f65762d-2eae-4009-d947-f33dd745812d",
    "ExecuteTime": {
     "end_time": "2024-01-25T15:29:36.337275600Z",
     "start_time": "2024-01-25T15:29:35.984726600Z"
    }
   },
   "execution_count": 17,
   "outputs": []
  },
  {
   "cell_type": "code",
   "source": [
    "# Exploring the data\n",
    "print(\"Handwritten Digits Dataset:\")\n",
    "print(\"Training set shape:\", x_train.shape, y_train.shape)\n",
    "print(\"Test set shape:\", x_test.shape, y_test.shape)\n",
    "num_classes = 10"
   ],
   "metadata": {
    "colab": {
     "base_uri": "https://localhost:8080/"
    },
    "id": "3Z0eCyscciI5",
    "outputId": "a89b3f14-e3ac-4726-bcd1-3ec4e3c872f5",
    "ExecuteTime": {
     "end_time": "2024-01-25T15:30:07.350425400Z",
     "start_time": "2024-01-25T15:30:07.329974700Z"
    }
   },
   "execution_count": 18,
   "outputs": [
    {
     "name": "stdout",
     "output_type": "stream",
     "text": [
      "Handwritten Digits Dataset:\n",
      "Training set shape: (60000, 28, 28) (60000,)\n",
      "Test set shape: (10000, 28, 28) (10000,)\n"
     ]
    }
   ]
  },
  {
   "cell_type": "markdown",
   "source": [
    "### Visualizing the samples"
   ],
   "metadata": {
    "id": "8NNPOOB8cqgz"
   }
  },
  {
   "cell_type": "code",
   "source": [
    "f, ax = plt.subplots(1, num_classes, figsize=(20, 20))\n",
    "for i in range(num_classes):\n",
    "    sample = x_train[y_train == i][0]\n",
    "    ax[i].imshow(sample, cmap='gray')\n",
    "    ax[i].set_title(\"Label: {}\".format(i), fontsize=16)"
   ],
   "metadata": {
    "colab": {
     "base_uri": "https://localhost:8080/",
     "height": 95
    },
    "id": "GbcYAPVocoKI",
    "outputId": "0344b5b4-459d-4b96-ad69-73d4cf6f4bcf",
    "ExecuteTime": {
     "end_time": "2024-01-25T15:30:13.341084500Z",
     "start_time": "2024-01-25T15:30:12.242434Z"
    }
   },
   "execution_count": 19,
   "outputs": [
    {
     "data": {
      "text/plain": "<Figure size 2000x2000 with 10 Axes>",
      "image/png": "[encoded data removed]"
     },
     "metadata": {},
     "output_type": "display_data"
    }
   ]
  },
  {
   "cell_type": "code",
   "source": [
    "#To see our labels\n",
    "for i in range(10):\n",
    "  print(y_train[i])"
   ],
   "metadata": {
    "colab": {
     "base_uri": "https://localhost:8080/"
    },
    "id": "2dHVJf6ucuHw",
    "outputId": "244f5374-595a-4e78-8b80-30ce7d0c5342",
    "ExecuteTime": {
     "end_time": "2024-01-25T15:30:20.347597900Z",
     "start_time": "2024-01-25T15:30:20.323752400Z"
    }
   },
   "execution_count": 20,
   "outputs": [
    {
     "name": "stdout",
     "output_type": "stream",
     "text": [
      "5\n",
      "0\n",
      "4\n",
      "1\n",
      "9\n",
      "2\n",
      "1\n",
      "3\n",
      "1\n",
      "4\n"
     ]
    }
   ]
  },
  {
   "cell_type": "code",
   "execution_count": 79,
   "outputs": [],
   "source": [
    "# One-hot encode labels\n",
    "num_classes = 10\n",
    "y_train_encoded = to_categorical(y_train, num_classes)\n",
    "y_test_encoded = to_categorical(y_test, num_classes)"
   ],
   "metadata": {
    "collapsed": false,
    "ExecuteTime": {
     "end_time": "2024-01-25T16:44:46.393979900Z",
     "start_time": "2024-01-25T16:44:27.403607200Z"
    }
   }
  },
  {
   "cell_type": "code",
   "execution_count": 80,
   "outputs": [],
   "source": [
    "# Normalize pixel values\n",
    "x_train = x_train / 255.0\n",
    "x_test = x_test / 255.0"
   ],
   "metadata": {
    "collapsed": false,
    "ExecuteTime": {
     "end_time": "2024-01-25T16:45:21.794735600Z",
     "start_time": "2024-01-25T16:45:20.407117100Z"
    }
   }
  },
  {
   "cell_type": "code",
   "execution_count": 86,
   "outputs": [
    {
     "name": "stdout",
     "output_type": "stream",
     "text": [
      "Shape of y_train_encoded: (60000, 10, 10, 10, 10)\n",
      "Shape of y_test_encoded: (10000, 10, 10, 10, 10)\n"
     ]
    }
   ],
   "source": [
    "from keras.utils import to_categorical\n",
    "\n",
    "# One-hot encode labels\n",
    "num_classes = 10\n",
    "y_train_encoded = to_categorical(y_train, num_classes)\n",
    "y_test_encoded = to_categorical(y_test, num_classes)\n",
    "\n",
    "print(\"Shape of y_train_encoded:\", y_train_encoded.shape)  # It should be (60000, 10)\n",
    "print(\"Shape of y_test_encoded:\", y_test_encoded.shape)    # It should be (10000, 10)\n"
   ],
   "metadata": {
    "collapsed": false,
    "ExecuteTime": {
     "end_time": "2024-01-25T16:56:05.703538Z",
     "start_time": "2024-01-25T16:56:03.901349600Z"
    }
   }
  },
  {
   "cell_type": "code",
   "execution_count": 63,
   "outputs": [],
   "source": [],
   "metadata": {
    "collapsed": false,
    "ExecuteTime": {
     "end_time": "2024-01-25T16:27:58.546836800Z",
     "start_time": "2024-01-25T16:27:58.538401700Z"
    }
   }
  },
  {
   "cell_type": "markdown",
   "source": [
    "# Model for Handwritten Digits"
   ],
   "metadata": {
    "id": "RpnAS0AjAc0X"
   }
  },
  {
   "cell_type": "markdown",
   "source": [
    "## Defining Baseline Model (Feed-forward Neural Network)"
   ],
   "metadata": {
    "collapsed": false
   }
  },
  {
   "cell_type": "code",
   "execution_count": 82,
   "outputs": [
    {
     "name": "stdout",
     "output_type": "stream",
     "text": [
      "Model: \"sequential_16\"\n",
      "_________________________________________________________________\n",
      " Layer (type)                Output Shape              Param #   \n",
      "=================================================================\n",
      " dense_34 (Dense)            (None, 64)                50240     \n",
      "                                                                 \n",
      " dense_35 (Dense)            (None, 10)                650       \n",
      "                                                                 \n",
      "=================================================================\n",
      "Total params: 50890 (198.79 KB)\n",
      "Trainable params: 50890 (198.79 KB)\n",
      "Non-trainable params: 0 (0.00 Byte)\n",
      "_________________________________________________________________\n"
     ]
    }
   ],
   "source": [
    "# Define the model\n",
    "model = Sequential()\n",
    "\n",
    "# Add the input layer\n",
    "model.add(Dense(64, input_shape=(784,), activation='relu'))\n",
    "\n",
    "# Add the output layer\n",
    "model.add(Dense(10, activation='softmax'))\n",
    "\n",
    "# Compile the model\n",
    "model.compile(optimizer='adam', loss='categorical_crossentropy', metrics=['accuracy'])\n",
    "\n",
    "# Print the summary of the model\n",
    "model.summary()"
   ],
   "metadata": {
    "collapsed": false,
    "ExecuteTime": {
     "end_time": "2024-01-25T16:50:47.904473500Z",
     "start_time": "2024-01-25T16:50:47.389928300Z"
    }
   }
  },
  {
   "cell_type": "markdown",
   "source": [
    "## Training the baseline model"
   ],
   "metadata": {
    "collapsed": false
   }
  },
  {
   "cell_type": "code",
   "execution_count": 83,
   "outputs": [
    {
     "name": "stdout",
     "output_type": "stream",
     "text": [
      "Epoch 1/10\n"
     ]
    },
    {
     "ename": "ValueError",
     "evalue": "in user code:\n\n    File \"C:\\Users\\johno\\miniconda3\\lib\\site-packages\\keras\\src\\engine\\training.py\", line 1401, in train_function  *\n        return step_function(self, iterator)\n    File \"C:\\Users\\johno\\miniconda3\\lib\\site-packages\\keras\\src\\engine\\training.py\", line 1384, in step_function  **\n        outputs = model.distribute_strategy.run(run_step, args=(data,))\n    File \"C:\\Users\\johno\\miniconda3\\lib\\site-packages\\keras\\src\\engine\\training.py\", line 1373, in run_step  **\n        outputs = model.train_step(data)\n    File \"C:\\Users\\johno\\miniconda3\\lib\\site-packages\\keras\\src\\engine\\training.py\", line 1151, in train_step\n        loss = self.compute_loss(x, y, y_pred, sample_weight)\n    File \"C:\\Users\\johno\\miniconda3\\lib\\site-packages\\keras\\src\\engine\\training.py\", line 1209, in compute_loss\n        return self.compiled_loss(\n    File \"C:\\Users\\johno\\miniconda3\\lib\\site-packages\\keras\\src\\engine\\compile_utils.py\", line 277, in __call__\n        loss_value = loss_obj(y_t, y_p, sample_weight=sw)\n    File \"C:\\Users\\johno\\miniconda3\\lib\\site-packages\\keras\\src\\losses.py\", line 143, in __call__\n        losses = call_fn(y_true, y_pred)\n    File \"C:\\Users\\johno\\miniconda3\\lib\\site-packages\\keras\\src\\losses.py\", line 270, in call  **\n        return ag_fn(y_true, y_pred, **self._fn_kwargs)\n    File \"C:\\Users\\johno\\miniconda3\\lib\\site-packages\\keras\\src\\losses.py\", line 2221, in categorical_crossentropy\n        return backend.categorical_crossentropy(\n    File \"C:\\Users\\johno\\miniconda3\\lib\\site-packages\\keras\\src\\backend.py\", line 5573, in categorical_crossentropy\n        target.shape.assert_is_compatible_with(output.shape)\n\n    ValueError: Shapes (None, 10, 10, 10, 10) and (None, 10) are incompatible\n",
     "output_type": "error",
     "traceback": [
      "\u001B[1;31m---------------------------------------------------------------------------\u001B[0m",
      "\u001B[1;31mValueError\u001B[0m                                Traceback (most recent call last)",
      "Cell \u001B[1;32mIn[83], line 2\u001B[0m\n\u001B[0;32m      1\u001B[0m \u001B[38;5;66;03m# Train the model\u001B[39;00m\n\u001B[1;32m----> 2\u001B[0m history \u001B[38;5;241m=\u001B[39m \u001B[43mmodel\u001B[49m\u001B[38;5;241;43m.\u001B[39;49m\u001B[43mfit\u001B[49m\u001B[43m(\u001B[49m\u001B[43mx_train_reshaped\u001B[49m\u001B[43m,\u001B[49m\u001B[43m \u001B[49m\u001B[43my_train_encoded\u001B[49m\u001B[43m,\u001B[49m\n\u001B[0;32m      3\u001B[0m \u001B[43m                    \u001B[49m\u001B[43mvalidation_data\u001B[49m\u001B[38;5;241;43m=\u001B[39;49m\u001B[43m(\u001B[49m\u001B[43mx_test_reshaped\u001B[49m\u001B[43m,\u001B[49m\u001B[43m \u001B[49m\u001B[43my_test_encoded\u001B[49m\u001B[43m)\u001B[49m\u001B[43m,\u001B[49m\n\u001B[0;32m      4\u001B[0m \u001B[43m                    \u001B[49m\u001B[43mbatch_size\u001B[49m\u001B[38;5;241;43m=\u001B[39;49m\u001B[43mbatch_size\u001B[49m\u001B[43m,\u001B[49m\u001B[43m \u001B[49m\u001B[43mepochs\u001B[49m\u001B[38;5;241;43m=\u001B[39;49m\u001B[43mepochs\u001B[49m\u001B[43m,\u001B[49m\u001B[43m \u001B[49m\u001B[43mverbose\u001B[49m\u001B[38;5;241;43m=\u001B[39;49m\u001B[38;5;241;43m2\u001B[39;49m\u001B[43m)\u001B[49m\n",
      "File \u001B[1;32m~\\miniconda3\\lib\\site-packages\\keras\\src\\utils\\traceback_utils.py:70\u001B[0m, in \u001B[0;36mfilter_traceback.<locals>.error_handler\u001B[1;34m(*args, **kwargs)\u001B[0m\n\u001B[0;32m     67\u001B[0m     filtered_tb \u001B[38;5;241m=\u001B[39m _process_traceback_frames(e\u001B[38;5;241m.\u001B[39m__traceback__)\n\u001B[0;32m     68\u001B[0m     \u001B[38;5;66;03m# To get the full stack trace, call:\u001B[39;00m\n\u001B[0;32m     69\u001B[0m     \u001B[38;5;66;03m# `tf.debugging.disable_traceback_filtering()`\u001B[39;00m\n\u001B[1;32m---> 70\u001B[0m     \u001B[38;5;28;01mraise\u001B[39;00m e\u001B[38;5;241m.\u001B[39mwith_traceback(filtered_tb) \u001B[38;5;28;01mfrom\u001B[39;00m \u001B[38;5;28;01mNone\u001B[39;00m\n\u001B[0;32m     71\u001B[0m \u001B[38;5;28;01mfinally\u001B[39;00m:\n\u001B[0;32m     72\u001B[0m     \u001B[38;5;28;01mdel\u001B[39;00m filtered_tb\n",
      "File \u001B[1;32m~\\AppData\\Local\\Temp\\__autograph_generated_filew61r147j.py:15\u001B[0m, in \u001B[0;36mouter_factory.<locals>.inner_factory.<locals>.tf__train_function\u001B[1;34m(iterator)\u001B[0m\n\u001B[0;32m     13\u001B[0m \u001B[38;5;28;01mtry\u001B[39;00m:\n\u001B[0;32m     14\u001B[0m     do_return \u001B[38;5;241m=\u001B[39m \u001B[38;5;28;01mTrue\u001B[39;00m\n\u001B[1;32m---> 15\u001B[0m     retval_ \u001B[38;5;241m=\u001B[39m ag__\u001B[38;5;241m.\u001B[39mconverted_call(ag__\u001B[38;5;241m.\u001B[39mld(step_function), (ag__\u001B[38;5;241m.\u001B[39mld(\u001B[38;5;28mself\u001B[39m), ag__\u001B[38;5;241m.\u001B[39mld(iterator)), \u001B[38;5;28;01mNone\u001B[39;00m, fscope)\n\u001B[0;32m     16\u001B[0m \u001B[38;5;28;01mexcept\u001B[39;00m:\n\u001B[0;32m     17\u001B[0m     do_return \u001B[38;5;241m=\u001B[39m \u001B[38;5;28;01mFalse\u001B[39;00m\n",
      "\u001B[1;31mValueError\u001B[0m: in user code:\n\n    File \"C:\\Users\\johno\\miniconda3\\lib\\site-packages\\keras\\src\\engine\\training.py\", line 1401, in train_function  *\n        return step_function(self, iterator)\n    File \"C:\\Users\\johno\\miniconda3\\lib\\site-packages\\keras\\src\\engine\\training.py\", line 1384, in step_function  **\n        outputs = model.distribute_strategy.run(run_step, args=(data,))\n    File \"C:\\Users\\johno\\miniconda3\\lib\\site-packages\\keras\\src\\engine\\training.py\", line 1373, in run_step  **\n        outputs = model.train_step(data)\n    File \"C:\\Users\\johno\\miniconda3\\lib\\site-packages\\keras\\src\\engine\\training.py\", line 1151, in train_step\n        loss = self.compute_loss(x, y, y_pred, sample_weight)\n    File \"C:\\Users\\johno\\miniconda3\\lib\\site-packages\\keras\\src\\engine\\training.py\", line 1209, in compute_loss\n        return self.compiled_loss(\n    File \"C:\\Users\\johno\\miniconda3\\lib\\site-packages\\keras\\src\\engine\\compile_utils.py\", line 277, in __call__\n        loss_value = loss_obj(y_t, y_p, sample_weight=sw)\n    File \"C:\\Users\\johno\\miniconda3\\lib\\site-packages\\keras\\src\\losses.py\", line 143, in __call__\n        losses = call_fn(y_true, y_pred)\n    File \"C:\\Users\\johno\\miniconda3\\lib\\site-packages\\keras\\src\\losses.py\", line 270, in call  **\n        return ag_fn(y_true, y_pred, **self._fn_kwargs)\n    File \"C:\\Users\\johno\\miniconda3\\lib\\site-packages\\keras\\src\\losses.py\", line 2221, in categorical_crossentropy\n        return backend.categorical_crossentropy(\n    File \"C:\\Users\\johno\\miniconda3\\lib\\site-packages\\keras\\src\\backend.py\", line 5573, in categorical_crossentropy\n        target.shape.assert_is_compatible_with(output.shape)\n\n    ValueError: Shapes (None, 10, 10, 10, 10) and (None, 10) are incompatible\n"
     ]
    }
   ],
   "source": [
    "# Train the model\n",
    "history = model.fit(x_train_reshaped, y_train_encoded,\n",
    "                    validation_data=(x_test_reshaped, y_test_encoded),\n",
    "                    batch_size=batch_size, epochs=epochs, verbose=2)\n"
   ],
   "metadata": {
    "collapsed": false,
    "ExecuteTime": {
     "end_time": "2024-01-25T16:52:07.791381500Z",
     "start_time": "2024-01-25T16:52:03.116682500Z"
    }
   }
  },
  {
   "cell_type": "code",
   "source": [
    "# Define the baseline model\n",
    "baseline_model_digits = Sequential()\n",
    "baseline_model_digits.add(Dense(64, input_shape=(784,), activation='relu'))\n",
    "baseline_model_digits.add(Dense(10, activation='softmax'))  # Output layer with 10 units for 10 classes\n",
    "baseline_model_digits.compile(optimizer=Adam(), loss='categorical_crossentropy', metrics=['accuracy'])\n",
    "baseline_model_digits.summary()\n",
    "\n",
    "# Train the baseline model\n",
    "history_baseline = baseline_model_digits.fit(x_train, y_train, batch_size=batch_size, epochs=epochs, validation_data=(x_test, y_test), verbose=2)\n",
    "\n",
    "# Evaluate the baseline model\n",
    "test_loss_baseline, test_acc_baseline = baseline_model_digits.evaluate(x_test, y_test, verbose=2)\n",
    "print(\"Baseline Model - Test Loss: {}, Test Accuracy: {}\".format(test_loss_baseline, test_acc_baseline))\n"
   ],
   "metadata": {
    "id": "ifp1sx3Bc435",
    "ExecuteTime": {
     "end_time": "2024-01-25T16:17:46.664177100Z",
     "start_time": "2024-01-25T16:17:45.864850600Z"
    }
   },
   "execution_count": 52,
   "outputs": [
    {
     "name": "stdout",
     "output_type": "stream",
     "text": [
      "Model: \"sequential_11\"\n",
      "_________________________________________________________________\n",
      " Layer (type)                Output Shape              Param #   \n",
      "=================================================================\n",
      " dense_24 (Dense)            (None, 64)                50240     \n",
      "                                                                 \n",
      " dense_25 (Dense)            (None, 10)                650       \n",
      "                                                                 \n",
      "=================================================================\n",
      "Total params: 50890 (198.79 KB)\n",
      "Trainable params: 50890 (198.79 KB)\n",
      "Non-trainable params: 0 (0.00 Byte)\n",
      "_________________________________________________________________\n",
      "Epoch 1/10\n"
     ]
    },
    {
     "ename": "ValueError",
     "evalue": "in user code:\n\n    File \"C:\\Users\\johno\\miniconda3\\lib\\site-packages\\keras\\src\\engine\\training.py\", line 1401, in train_function  *\n        return step_function(self, iterator)\n    File \"C:\\Users\\johno\\miniconda3\\lib\\site-packages\\keras\\src\\engine\\training.py\", line 1384, in step_function  **\n        outputs = model.distribute_strategy.run(run_step, args=(data,))\n    File \"C:\\Users\\johno\\miniconda3\\lib\\site-packages\\keras\\src\\engine\\training.py\", line 1373, in run_step  **\n        outputs = model.train_step(data)\n    File \"C:\\Users\\johno\\miniconda3\\lib\\site-packages\\keras\\src\\engine\\training.py\", line 1151, in train_step\n        loss = self.compute_loss(x, y, y_pred, sample_weight)\n    File \"C:\\Users\\johno\\miniconda3\\lib\\site-packages\\keras\\src\\engine\\training.py\", line 1209, in compute_loss\n        return self.compiled_loss(\n    File \"C:\\Users\\johno\\miniconda3\\lib\\site-packages\\keras\\src\\engine\\compile_utils.py\", line 277, in __call__\n        loss_value = loss_obj(y_t, y_p, sample_weight=sw)\n    File \"C:\\Users\\johno\\miniconda3\\lib\\site-packages\\keras\\src\\losses.py\", line 143, in __call__\n        losses = call_fn(y_true, y_pred)\n    File \"C:\\Users\\johno\\miniconda3\\lib\\site-packages\\keras\\src\\losses.py\", line 270, in call  **\n        return ag_fn(y_true, y_pred, **self._fn_kwargs)\n    File \"C:\\Users\\johno\\miniconda3\\lib\\site-packages\\keras\\src\\losses.py\", line 2221, in categorical_crossentropy\n        return backend.categorical_crossentropy(\n    File \"C:\\Users\\johno\\miniconda3\\lib\\site-packages\\keras\\src\\backend.py\", line 5573, in categorical_crossentropy\n        target.shape.assert_is_compatible_with(output.shape)\n\n    ValueError: Shapes (None, 10, 10, 10) and (None, 10) are incompatible\n",
     "output_type": "error",
     "traceback": [
      "\u001B[1;31m---------------------------------------------------------------------------\u001B[0m",
      "\u001B[1;31mValueError\u001B[0m                                Traceback (most recent call last)",
      "Cell \u001B[1;32mIn[52], line 9\u001B[0m\n\u001B[0;32m      6\u001B[0m baseline_model_digits\u001B[38;5;241m.\u001B[39msummary()\n\u001B[0;32m      8\u001B[0m \u001B[38;5;66;03m# Train the baseline model\u001B[39;00m\n\u001B[1;32m----> 9\u001B[0m history_baseline \u001B[38;5;241m=\u001B[39m \u001B[43mbaseline_model_digits\u001B[49m\u001B[38;5;241;43m.\u001B[39;49m\u001B[43mfit\u001B[49m\u001B[43m(\u001B[49m\u001B[43mx_train\u001B[49m\u001B[43m,\u001B[49m\u001B[43m \u001B[49m\u001B[43my_train\u001B[49m\u001B[43m,\u001B[49m\u001B[43m \u001B[49m\u001B[43mbatch_size\u001B[49m\u001B[38;5;241;43m=\u001B[39;49m\u001B[43mbatch_size\u001B[49m\u001B[43m,\u001B[49m\u001B[43m \u001B[49m\u001B[43mepochs\u001B[49m\u001B[38;5;241;43m=\u001B[39;49m\u001B[43mepochs\u001B[49m\u001B[43m,\u001B[49m\u001B[43m \u001B[49m\u001B[43mvalidation_data\u001B[49m\u001B[38;5;241;43m=\u001B[39;49m\u001B[43m(\u001B[49m\u001B[43mx_test\u001B[49m\u001B[43m,\u001B[49m\u001B[43m \u001B[49m\u001B[43my_test\u001B[49m\u001B[43m)\u001B[49m\u001B[43m,\u001B[49m\u001B[43m \u001B[49m\u001B[43mverbose\u001B[49m\u001B[38;5;241;43m=\u001B[39;49m\u001B[38;5;241;43m2\u001B[39;49m\u001B[43m)\u001B[49m\n\u001B[0;32m     11\u001B[0m \u001B[38;5;66;03m# Evaluate the baseline model\u001B[39;00m\n\u001B[0;32m     12\u001B[0m test_loss_baseline, test_acc_baseline \u001B[38;5;241m=\u001B[39m baseline_model_digits\u001B[38;5;241m.\u001B[39mevaluate(x_test, y_test, verbose\u001B[38;5;241m=\u001B[39m\u001B[38;5;241m2\u001B[39m)\n",
      "File \u001B[1;32m~\\miniconda3\\lib\\site-packages\\keras\\src\\utils\\traceback_utils.py:70\u001B[0m, in \u001B[0;36mfilter_traceback.<locals>.error_handler\u001B[1;34m(*args, **kwargs)\u001B[0m\n\u001B[0;32m     67\u001B[0m     filtered_tb \u001B[38;5;241m=\u001B[39m _process_traceback_frames(e\u001B[38;5;241m.\u001B[39m__traceback__)\n\u001B[0;32m     68\u001B[0m     \u001B[38;5;66;03m# To get the full stack trace, call:\u001B[39;00m\n\u001B[0;32m     69\u001B[0m     \u001B[38;5;66;03m# `tf.debugging.disable_traceback_filtering()`\u001B[39;00m\n\u001B[1;32m---> 70\u001B[0m     \u001B[38;5;28;01mraise\u001B[39;00m e\u001B[38;5;241m.\u001B[39mwith_traceback(filtered_tb) \u001B[38;5;28;01mfrom\u001B[39;00m \u001B[38;5;28;01mNone\u001B[39;00m\n\u001B[0;32m     71\u001B[0m \u001B[38;5;28;01mfinally\u001B[39;00m:\n\u001B[0;32m     72\u001B[0m     \u001B[38;5;28;01mdel\u001B[39;00m filtered_tb\n",
      "File \u001B[1;32m~\\AppData\\Local\\Temp\\__autograph_generated_filew61r147j.py:15\u001B[0m, in \u001B[0;36mouter_factory.<locals>.inner_factory.<locals>.tf__train_function\u001B[1;34m(iterator)\u001B[0m\n\u001B[0;32m     13\u001B[0m \u001B[38;5;28;01mtry\u001B[39;00m:\n\u001B[0;32m     14\u001B[0m     do_return \u001B[38;5;241m=\u001B[39m \u001B[38;5;28;01mTrue\u001B[39;00m\n\u001B[1;32m---> 15\u001B[0m     retval_ \u001B[38;5;241m=\u001B[39m ag__\u001B[38;5;241m.\u001B[39mconverted_call(ag__\u001B[38;5;241m.\u001B[39mld(step_function), (ag__\u001B[38;5;241m.\u001B[39mld(\u001B[38;5;28mself\u001B[39m), ag__\u001B[38;5;241m.\u001B[39mld(iterator)), \u001B[38;5;28;01mNone\u001B[39;00m, fscope)\n\u001B[0;32m     16\u001B[0m \u001B[38;5;28;01mexcept\u001B[39;00m:\n\u001B[0;32m     17\u001B[0m     do_return \u001B[38;5;241m=\u001B[39m \u001B[38;5;28;01mFalse\u001B[39;00m\n",
      "\u001B[1;31mValueError\u001B[0m: in user code:\n\n    File \"C:\\Users\\johno\\miniconda3\\lib\\site-packages\\keras\\src\\engine\\training.py\", line 1401, in train_function  *\n        return step_function(self, iterator)\n    File \"C:\\Users\\johno\\miniconda3\\lib\\site-packages\\keras\\src\\engine\\training.py\", line 1384, in step_function  **\n        outputs = model.distribute_strategy.run(run_step, args=(data,))\n    File \"C:\\Users\\johno\\miniconda3\\lib\\site-packages\\keras\\src\\engine\\training.py\", line 1373, in run_step  **\n        outputs = model.train_step(data)\n    File \"C:\\Users\\johno\\miniconda3\\lib\\site-packages\\keras\\src\\engine\\training.py\", line 1151, in train_step\n        loss = self.compute_loss(x, y, y_pred, sample_weight)\n    File \"C:\\Users\\johno\\miniconda3\\lib\\site-packages\\keras\\src\\engine\\training.py\", line 1209, in compute_loss\n        return self.compiled_loss(\n    File \"C:\\Users\\johno\\miniconda3\\lib\\site-packages\\keras\\src\\engine\\compile_utils.py\", line 277, in __call__\n        loss_value = loss_obj(y_t, y_p, sample_weight=sw)\n    File \"C:\\Users\\johno\\miniconda3\\lib\\site-packages\\keras\\src\\losses.py\", line 143, in __call__\n        losses = call_fn(y_true, y_pred)\n    File \"C:\\Users\\johno\\miniconda3\\lib\\site-packages\\keras\\src\\losses.py\", line 270, in call  **\n        return ag_fn(y_true, y_pred, **self._fn_kwargs)\n    File \"C:\\Users\\johno\\miniconda3\\lib\\site-packages\\keras\\src\\losses.py\", line 2221, in categorical_crossentropy\n        return backend.categorical_crossentropy(\n    File \"C:\\Users\\johno\\miniconda3\\lib\\site-packages\\keras\\src\\backend.py\", line 5573, in categorical_crossentropy\n        target.shape.assert_is_compatible_with(output.shape)\n\n    ValueError: Shapes (None, 10, 10, 10) and (None, 10) are incompatible\n"
     ]
    }
   ]
  },
  {
   "cell_type": "markdown",
   "source": [
    "### Training"
   ],
   "metadata": {
    "id": "TxZymdqedO2T"
   }
  },
  {
   "cell_type": "code",
   "source": [
    "batch_size = 512\n",
    "epochs = 5\n",
    "model.fit(x=x_train, y=y_train, batch_size=batch_size, epochs=epochs)"
   ],
   "metadata": {
    "colab": {
     "base_uri": "https://localhost:8080/"
    },
    "id": "rZZwbMGcdQwH",
    "outputId": "e943a8e9-26e7-4f33-9d62-c68ed04d7e01"
   },
   "execution_count": 26,
   "outputs": [
    {
     "output_type": "stream",
     "name": "stdout",
     "text": [
      "Epoch 1/10\n",
      "118/118 [==============================] - 2s 11ms/step - loss: 0.5776 - accuracy: 0.8311\n",
      "Epoch 2/10\n",
      "118/118 [==============================] - 1s 11ms/step - loss: 0.2266 - accuracy: 0.9345\n",
      "Epoch 3/10\n",
      "118/118 [==============================] - 1s 11ms/step - loss: 0.1646 - accuracy: 0.9521\n",
      "Epoch 4/10\n",
      "118/118 [==============================] - 1s 10ms/step - loss: 0.1314 - accuracy: 0.9615\n",
      "Epoch 5/10\n",
      "118/118 [==============================] - 2s 16ms/step - loss: 0.1107 - accuracy: 0.9672\n",
      "Epoch 6/10\n",
      "118/118 [==============================] - 2s 15ms/step - loss: 0.0950 - accuracy: 0.9714\n",
      "Epoch 7/10\n",
      "118/118 [==============================] - 2s 16ms/step - loss: 0.0813 - accuracy: 0.9757\n",
      "Epoch 8/10\n",
      "118/118 [==============================] - 1s 11ms/step - loss: 0.0712 - accuracy: 0.9782\n",
      "Epoch 9/10\n",
      "118/118 [==============================] - 1s 11ms/step - loss: 0.0629 - accuracy: 0.9811\n",
      "Epoch 10/10\n",
      "118/118 [==============================] - 1s 11ms/step - loss: 0.0565 - accuracy: 0.9825\n"
     ]
    },
    {
     "output_type": "execute_result",
     "data": {
      "text/plain": [
       "<keras.src.callbacks.History at 0x788355b34c10>"
      ]
     },
     "metadata": {},
     "execution_count": 26
    }
   ]
  },
  {
   "cell_type": "markdown",
   "source": [
    "### Evaluation of model using test dataset"
   ],
   "metadata": {
    "id": "eB04k0Oe1anq"
   }
  },
  {
   "cell_type": "code",
   "source": [
    "test_loss, test_acc = model.evaluate(x_test, y_test, verbose=2)\n",
    "print(\"Test Loss: {}, Test Accuracy: {}\".format(test_loss, test_acc))"
   ],
   "metadata": {
    "colab": {
     "base_uri": "https://localhost:8080/"
    },
    "id": "JBunS3JkdUFN",
    "outputId": "1b6773d0-a56c-4e79-e152-a046e80f0bbc",
    "ExecuteTime": {
     "end_time": "2024-01-25T15:31:14.686066200Z",
     "start_time": "2024-01-25T15:31:14.652511400Z"
    }
   },
   "execution_count": 24,
   "outputs": [
    {
     "ename": "NameError",
     "evalue": "name 'model' is not defined",
     "output_type": "error",
     "traceback": [
      "\u001B[1;31m---------------------------------------------------------------------------\u001B[0m",
      "\u001B[1;31mNameError\u001B[0m                                 Traceback (most recent call last)",
      "Cell \u001B[1;32mIn[24], line 1\u001B[0m\n\u001B[1;32m----> 1\u001B[0m test_loss, test_acc \u001B[38;5;241m=\u001B[39m \u001B[43mmodel\u001B[49m\u001B[38;5;241m.\u001B[39mevaluate(x_test, y_test, verbose\u001B[38;5;241m=\u001B[39m\u001B[38;5;241m2\u001B[39m)\n\u001B[0;32m      2\u001B[0m \u001B[38;5;28mprint\u001B[39m(\u001B[38;5;124m\"\u001B[39m\u001B[38;5;124mTest Loss: \u001B[39m\u001B[38;5;132;01m{}\u001B[39;00m\u001B[38;5;124m, Test Accuracy: \u001B[39m\u001B[38;5;132;01m{}\u001B[39;00m\u001B[38;5;124m\"\u001B[39m\u001B[38;5;241m.\u001B[39mformat(test_loss, test_acc))\n",
      "\u001B[1;31mNameError\u001B[0m: name 'model' is not defined"
     ]
    }
   ]
  },
  {
   "cell_type": "markdown",
   "source": [
    "### Prediction"
   ],
   "metadata": {
    "id": "Z2bVg5rc45rX"
   }
  },
  {
   "cell_type": "code",
   "source": [
    "y_pred = model.predict(x_test)\n",
    "y_pred_classes = np.argmax(y_pred, axis=1)\n",
    "print(y_pred)\n",
    "print(y_pred_classes)"
   ],
   "metadata": {
    "colab": {
     "base_uri": "https://localhost:8080/"
    },
    "id": "EcRz9118wRjN",
    "outputId": "5a1cfed2-d7d8-4944-8d83-dda81949b079"
   },
   "execution_count": 28,
   "outputs": [
    {
     "output_type": "stream",
     "name": "stdout",
     "text": [
      "313/313 [==============================] - 1s 2ms/step\n",
      "[[2.0499747e-06 2.8996390e-06 5.8263748e-05 ... 9.9986243e-01\n",
      "  2.5918209e-06 1.3291698e-05]\n",
      " [3.6880056e-08 9.7780976e-05 9.9987978e-01 ... 4.8260538e-09\n",
      "  5.2258160e-06 1.9675533e-10]\n",
      " [8.8596025e-06 9.9769068e-01 3.5060648e-04 ... 1.2004459e-03\n",
      "  4.3092898e-04 1.8068607e-05]\n",
      " ...\n",
      " [1.2367900e-11 1.5667911e-09 6.1690747e-10 ... 8.4811927e-06\n",
      "  2.5452847e-08 2.3775060e-06]\n",
      " [6.6887260e-08 1.1340412e-09 7.0864903e-10 ... 1.3458650e-09\n",
      "  2.6995751e-05 4.1778709e-09]\n",
      " [1.7138755e-07 7.3360951e-10 2.5924185e-08 ... 3.7814713e-11\n",
      "  5.6988405e-09 9.8820618e-10]]\n",
      "[7 2 1 ... 4 5 6]\n"
     ]
    }
   ]
  },
  {
   "cell_type": "code",
   "source": [
    "# Random prediction\n",
    "random_idx = np.random.choice(len(x_test))\n",
    "x_sample = x_test[random_idx]\n",
    "y_true = np.argmax(y_test, axis=1)\n",
    "y_sample_true = y_true[random_idx]\n",
    "y_sample_pred_class = y_pred_classes[random_idx]\n",
    "\n",
    "plt.title(\"Predicted: {}, True: {}\".format(y_sample_pred_class, y_sample_true), fontsize=16)\n",
    "plt.imshow(x_sample.reshape(28, 28), cmap='gray')"
   ],
   "metadata": {
    "colab": {
     "base_uri": "https://localhost:8080/",
     "height": 472
    },
    "id": "Mcl8uFtb0qby",
    "outputId": "d88aa38c-86ff-4531-dddc-2a0c513828d7"
   },
   "execution_count": 29,
   "outputs": [
    {
     "output_type": "execute_result",
     "data": {
      "text/plain": [
       "<matplotlib.image.AxesImage at 0x788353e63160>"
      ]
     },
     "metadata": {},
     "execution_count": 29
    },
    {
     "output_type": "display_data",
     "data": {
      "text/plain": [
       "<Figure size 640x480 with 1 Axes>"
      ],
      "image/png": "[encoded data removed]"
     },
     "metadata": {}
    }
   ]
  },
  {
   "cell_type": "markdown",
   "source": [
    "### Confusion Matrix"
   ],
   "metadata": {
    "id": "pi5FxvB153g6"
   }
  },
  {
   "cell_type": "code",
   "source": [
    "confusion_mtx = confusion_matrix(y_true, y_pred_classes)\n",
    "\n",
    "#plot\n",
    "fig, ax = plt.subplots(figsize=(15, 10))\n",
    "ax = sns.heatmap(confusion_mtx, annot=True, fmt='d', ax=ax, cmap=\"Blues\")\n",
    "ax.set_xlabel('Predicted Label')\n",
    "ax.set_ylabel('True Label')\n",
    "ax.set_title('Confusion Matrix');"
   ],
   "metadata": {
    "colab": {
     "base_uri": "https://localhost:8080/",
     "height": 491
    },
    "id": "x_TNI9Iv4MeE",
    "outputId": "12e087cc-6566-4c29-8e0a-82d5f11edae8"
   },
   "execution_count": 30,
   "outputs": [
    {
     "output_type": "display_data",
     "data": {
      "text/plain": [
       "<Figure size 1500x1000 with 2 Axes>"
      ],
      "image/png": "[encoded data removed]"
     },
     "metadata": {}
    }
   ]
  },
  {
   "cell_type": "markdown",
   "source": [
    "***We can see that using the confusion matrix helps us see the accuracy of the model. Every column in every row is a class for a digit with our \"True label\" on the Y axis and the \"Predicted Label\" on the X-axis***\n",
    "\n",
    "***From the first row, for every 0 that had a true label of zero, the model predicted 971 zeros. This can be seen for all the other other numbers till 9 which means our model is quite accurate***"
   ],
   "metadata": {
    "id": "1TwWcBi47NX3"
   }
  },
  {
   "cell_type": "markdown",
   "source": [
    "## Dog Breeds Classification"
   ],
   "metadata": {
    "collapsed": false
   }
  },
  {
   "cell_type": "code",
   "execution_count": 9,
   "outputs": [],
   "source": [
    "# Importing necessary libraries\n",
    "import os\n",
    "import pandas as pd\n",
    "from keras.preprocessing.image import ImageDataGenerator\n",
    "from keras.applications import VGG16\n",
    "from keras import models, layers, optimizers"
   ],
   "metadata": {
    "collapsed": false,
    "ExecuteTime": {
     "end_time": "2024-01-25T14:01:07.459316500Z",
     "start_time": "2024-01-25T14:01:07.434702100Z"
    }
   }
  },
  {
   "cell_type": "markdown",
   "source": [
    "### Loading and Pre-processing the data"
   ],
   "metadata": {
    "id": "twFs8d4RYkRc"
   }
  },
  {
   "cell_type": "code",
   "source": [
    "path = r'C:\\Users\\johno\\Desktop\\EPITA\\Fall 2023\\Computer Vision - Prof Aurelien Quillet\\Projects - Computer Vision\\dog-breed-identification'\n",
    "labels_path = \"./dog-breed-identification/labels.csv\"\n",
    "labels_df = pd.read_csv(labels_path)\n",
    "breed = labels_df[\"breed\"].unique()\n",
    "train_path = os.path.join(path, \"train/*\")"
   ],
   "metadata": {
    "colab": {
     "base_uri": "https://localhost:8080/",
     "height": 442
    },
    "id": "TdS2Oc6s6SCy",
    "outputId": "d5b7f58f-318d-47dc-cc8c-38cbc949d6e4",
    "ExecuteTime": {
     "end_time": "2024-01-25T15:24:56.283484600Z",
     "start_time": "2024-01-25T15:24:56.225088600Z"
    }
   },
   "execution_count": 11,
   "outputs": []
  },
  {
   "cell_type": "code",
   "source": [
    "# Data Augmentation\n",
    "train_datagen = ImageDataGenerator(\n",
    "    rescale=1./255,\n",
    "    rotation_range=20,\n",
    "    width_shift_range=0.2,\n",
    "    height_shift_range=0.2,\n",
    "    shear_range=0.2,\n",
    "    zoom_range=0.2,\n",
    "    horizontal_flip=True,\n",
    "    fill_mode='nearest'\n",
    ")\n",
    "\n",
    "# Creating Data generators\n",
    "train_generator = train_datagen.flow_from_dataframe(\n",
    "    labels_df,\n",
    "    directory=train_path,\n",
    "    x_col=\"id\",\n",
    "    y_col=\"breed\",\n",
    "    target_size=(224, 224),\n",
    "    class_mode=\"categorical\",\n",
    "    batch_size=32,\n",
    "    subset=\"training\"\n",
    ")\n",
    "\n",
    "validation_generator = train_datagen.flow_from_dataframe(\n",
    "    labels_df,\n",
    "    directory=train_path,\n",
    "    x_col=\"id\",\n",
    "    y_col=\"breed\",\n",
    "    target_size=(224, 224),\n",
    "    class_mode=\"categorical\",\n",
    "    batch_size=32,\n",
    "    subset=\"validation\"\n",
    ")\n"
   ],
   "metadata": {
    "id": "_-pFJu_VY-8x",
    "ExecuteTime": {
     "end_time": "2024-01-25T15:24:59.567556600Z",
     "start_time": "2024-01-25T15:24:59.406578300Z"
    }
   },
   "execution_count": 12,
   "outputs": [
    {
     "name": "stdout",
     "output_type": "stream",
     "text": [
      "Found 0 validated image filenames belonging to 0 classes.\n",
      "Found 0 validated image filenames belonging to 0 classes.\n"
     ]
    },
    {
     "name": "stderr",
     "output_type": "stream",
     "text": [
      "C:\\Users\\johno\\miniconda3\\lib\\site-packages\\keras\\src\\preprocessing\\image.py:1137: UserWarning: Found 10222 invalid image filename(s) in x_col=\"id\". These filename(s) will be ignored.\n",
      "  warnings.warn(\n",
      "C:\\Users\\johno\\miniconda3\\lib\\site-packages\\keras\\src\\preprocessing\\image.py:1137: UserWarning: Found 10222 invalid image filename(s) in x_col=\"id\". These filename(s) will be ignored.\n",
      "  warnings.warn(\n"
     ]
    }
   ]
  },
  {
   "cell_type": "code",
   "source": [
    "# Building the model with VGG16\n",
    "base_model = VGG16(weights='imagenet', include_top=False, input_shape=(224, 224, 3))\n",
    "\n",
    "model_vgg16 = models.Sequential()\n",
    "model_vgg16.add(base_model)\n",
    "model_vgg16.add(layers.Flatten())\n",
    "model_vgg16.add(layers.Dense(256, activation='relu'))\n",
    "model_vgg16.add(layers.Dropout(0.5))\n",
    "model_vgg16.add(layers.Dense(len(labels_df[\"breed\"].unique()), activation='softmax'))\n",
    "\n",
    "model_vgg16.compile(loss='categorical_crossentropy', optimizer=optimizers.RMSprop(lr=1e-4), metrics=['acc'])\n"
   ],
   "metadata": {
    "id": "7fMxaNYkaC3Y",
    "ExecuteTime": {
     "end_time": "2024-01-25T15:25:33.531018800Z",
     "start_time": "2024-01-25T15:25:26.951530100Z"
    }
   },
   "execution_count": 13,
   "outputs": [
    {
     "name": "stdout",
     "output_type": "stream",
     "text": [
      "WARNING:tensorflow:From C:\\Users\\johno\\miniconda3\\lib\\site-packages\\keras\\src\\backend.py:1398: The name tf.executing_eagerly_outside_functions is deprecated. Please use tf.compat.v1.executing_eagerly_outside_functions instead.\n",
      "\n",
      "WARNING:tensorflow:From C:\\Users\\johno\\miniconda3\\lib\\site-packages\\keras\\src\\layers\\pooling\\max_pooling2d.py:161: The name tf.nn.max_pool is deprecated. Please use tf.nn.max_pool2d instead.\n",
      "\n",
      "Downloading data from https://storage.googleapis.com/tensorflow/keras-applications/vgg16/vgg16_weights_tf_dim_ordering_tf_kernels_notop.h5\n",
      "58889256/58889256 [==============================] - 4s 0us/step\n"
     ]
    },
    {
     "name": "stderr",
     "output_type": "stream",
     "text": [
      "WARNING:absl:`lr` is deprecated in Keras optimizer, please use `learning_rate` or use the legacy optimizer, e.g.,tf.keras.optimizers.legacy.RMSprop.\n"
     ]
    }
   ]
  },
  {
   "cell_type": "code",
   "source": [],
   "metadata": {
    "id": "re4eYKNraoad"
   },
   "execution_count": null,
   "outputs": []
  }
 ]
}
